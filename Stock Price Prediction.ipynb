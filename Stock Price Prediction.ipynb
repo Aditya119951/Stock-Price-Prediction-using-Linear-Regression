{
 "cells": [
  {
   "cell_type": "markdown",
   "metadata": {},
   "source": [
    "## Importing Packages"
   ]
  },
  {
   "cell_type": "code",
   "execution_count": 142,
   "metadata": {},
   "outputs": [],
   "source": [
    "import pandas as pd\n",
    "import numpy as np\n",
    "import matplotlib.pyplot as plt\n",
    "import seaborn as sns\n",
    "from sklearn.model_selection import train_test_split\n",
    "from sklearn.linear_model import LinearRegression\n",
    "from sklearn.metrics import mean_squared_error"
   ]
  },
  {
   "cell_type": "markdown",
   "metadata": {},
   "source": [
    "## Importing Data"
   ]
  },
  {
   "cell_type": "code",
   "execution_count": 102,
   "metadata": {},
   "outputs": [
    {
     "data": {
      "text/html": [
       "<div>\n",
       "<style scoped>\n",
       "    .dataframe tbody tr th:only-of-type {\n",
       "        vertical-align: middle;\n",
       "    }\n",
       "\n",
       "    .dataframe tbody tr th {\n",
       "        vertical-align: top;\n",
       "    }\n",
       "\n",
       "    .dataframe thead th {\n",
       "        text-align: right;\n",
       "    }\n",
       "</style>\n",
       "<table border=\"1\" class=\"dataframe\">\n",
       "  <thead>\n",
       "    <tr style=\"text-align: right;\">\n",
       "      <th></th>\n",
       "      <th>Date</th>\n",
       "      <th>Open</th>\n",
       "      <th>High</th>\n",
       "      <th>Low</th>\n",
       "      <th>Close</th>\n",
       "      <th>Volume</th>\n",
       "      <th>Dividend</th>\n",
       "      <th>Split</th>\n",
       "      <th>Adj_Open</th>\n",
       "      <th>Adj_High</th>\n",
       "      <th>Adj_Low</th>\n",
       "      <th>Adj_Close</th>\n",
       "      <th>Adj_Volume</th>\n",
       "    </tr>\n",
       "  </thead>\n",
       "  <tbody>\n",
       "    <tr>\n",
       "      <th>0</th>\n",
       "      <td>2017-12-28</td>\n",
       "      <td>171.00</td>\n",
       "      <td>171.850</td>\n",
       "      <td>170.480</td>\n",
       "      <td>171.080</td>\n",
       "      <td>16480187.0</td>\n",
       "      <td>0.0</td>\n",
       "      <td>1.0</td>\n",
       "      <td>41.136972</td>\n",
       "      <td>41.341454</td>\n",
       "      <td>41.011877</td>\n",
       "      <td>41.156217</td>\n",
       "      <td>65920748.0</td>\n",
       "    </tr>\n",
       "    <tr>\n",
       "      <th>1</th>\n",
       "      <td>2017-12-27</td>\n",
       "      <td>170.10</td>\n",
       "      <td>170.780</td>\n",
       "      <td>169.710</td>\n",
       "      <td>170.600</td>\n",
       "      <td>21498213.0</td>\n",
       "      <td>0.0</td>\n",
       "      <td>1.0</td>\n",
       "      <td>40.920461</td>\n",
       "      <td>41.084047</td>\n",
       "      <td>40.826640</td>\n",
       "      <td>41.040745</td>\n",
       "      <td>85992852.0</td>\n",
       "    </tr>\n",
       "    <tr>\n",
       "      <th>2</th>\n",
       "      <td>2017-12-26</td>\n",
       "      <td>170.80</td>\n",
       "      <td>171.470</td>\n",
       "      <td>169.679</td>\n",
       "      <td>170.570</td>\n",
       "      <td>33185536.0</td>\n",
       "      <td>0.0</td>\n",
       "      <td>1.0</td>\n",
       "      <td>41.088858</td>\n",
       "      <td>41.250038</td>\n",
       "      <td>40.819183</td>\n",
       "      <td>41.033528</td>\n",
       "      <td>132742144.0</td>\n",
       "    </tr>\n",
       "    <tr>\n",
       "      <th>3</th>\n",
       "      <td>2017-12-22</td>\n",
       "      <td>174.68</td>\n",
       "      <td>175.424</td>\n",
       "      <td>174.500</td>\n",
       "      <td>175.010</td>\n",
       "      <td>16349444.0</td>\n",
       "      <td>0.0</td>\n",
       "      <td>1.0</td>\n",
       "      <td>42.022259</td>\n",
       "      <td>42.201241</td>\n",
       "      <td>41.978957</td>\n",
       "      <td>42.101646</td>\n",
       "      <td>65397776.0</td>\n",
       "    </tr>\n",
       "    <tr>\n",
       "      <th>4</th>\n",
       "      <td>2017-12-21</td>\n",
       "      <td>174.17</td>\n",
       "      <td>176.020</td>\n",
       "      <td>174.100</td>\n",
       "      <td>175.010</td>\n",
       "      <td>20949896.0</td>\n",
       "      <td>0.0</td>\n",
       "      <td>1.0</td>\n",
       "      <td>41.899570</td>\n",
       "      <td>42.344619</td>\n",
       "      <td>41.882730</td>\n",
       "      <td>42.101646</td>\n",
       "      <td>83799584.0</td>\n",
       "    </tr>\n",
       "    <tr>\n",
       "      <th>...</th>\n",
       "      <td>...</td>\n",
       "      <td>...</td>\n",
       "      <td>...</td>\n",
       "      <td>...</td>\n",
       "      <td>...</td>\n",
       "      <td>...</td>\n",
       "      <td>...</td>\n",
       "      <td>...</td>\n",
       "      <td>...</td>\n",
       "      <td>...</td>\n",
       "      <td>...</td>\n",
       "      <td>...</td>\n",
       "      <td>...</td>\n",
       "    </tr>\n",
       "    <tr>\n",
       "      <th>1085</th>\n",
       "      <td>2013-09-09</td>\n",
       "      <td>505.00</td>\n",
       "      <td>507.920</td>\n",
       "      <td>503.480</td>\n",
       "      <td>506.170</td>\n",
       "      <td>12167400.0</td>\n",
       "      <td>0.0</td>\n",
       "      <td>1.0</td>\n",
       "      <td>15.996600</td>\n",
       "      <td>16.089095</td>\n",
       "      <td>15.948451</td>\n",
       "      <td>16.033661</td>\n",
       "      <td>340687200.0</td>\n",
       "    </tr>\n",
       "    <tr>\n",
       "      <th>1086</th>\n",
       "      <td>2013-09-06</td>\n",
       "      <td>498.44</td>\n",
       "      <td>499.380</td>\n",
       "      <td>489.950</td>\n",
       "      <td>498.220</td>\n",
       "      <td>12840200.0</td>\n",
       "      <td>0.0</td>\n",
       "      <td>1.0</td>\n",
       "      <td>15.788802</td>\n",
       "      <td>15.818578</td>\n",
       "      <td>15.519869</td>\n",
       "      <td>15.781833</td>\n",
       "      <td>359525600.0</td>\n",
       "    </tr>\n",
       "    <tr>\n",
       "      <th>1087</th>\n",
       "      <td>2013-09-05</td>\n",
       "      <td>500.25</td>\n",
       "      <td>500.680</td>\n",
       "      <td>493.640</td>\n",
       "      <td>495.270</td>\n",
       "      <td>8441700.0</td>\n",
       "      <td>0.0</td>\n",
       "      <td>1.0</td>\n",
       "      <td>15.846136</td>\n",
       "      <td>15.859757</td>\n",
       "      <td>15.636755</td>\n",
       "      <td>15.688388</td>\n",
       "      <td>236367600.0</td>\n",
       "    </tr>\n",
       "    <tr>\n",
       "      <th>1088</th>\n",
       "      <td>2013-09-04</td>\n",
       "      <td>499.56</td>\n",
       "      <td>502.240</td>\n",
       "      <td>496.280</td>\n",
       "      <td>498.691</td>\n",
       "      <td>12322600.0</td>\n",
       "      <td>0.0</td>\n",
       "      <td>1.0</td>\n",
       "      <td>15.824280</td>\n",
       "      <td>15.909173</td>\n",
       "      <td>15.720381</td>\n",
       "      <td>15.796753</td>\n",
       "      <td>345032800.0</td>\n",
       "    </tr>\n",
       "    <tr>\n",
       "      <th>1089</th>\n",
       "      <td>2013-09-03</td>\n",
       "      <td>493.10</td>\n",
       "      <td>500.600</td>\n",
       "      <td>487.350</td>\n",
       "      <td>488.580</td>\n",
       "      <td>11854600.0</td>\n",
       "      <td>0.0</td>\n",
       "      <td>1.0</td>\n",
       "      <td>15.619650</td>\n",
       "      <td>15.857223</td>\n",
       "      <td>15.437510</td>\n",
       "      <td>15.476472</td>\n",
       "      <td>331928800.0</td>\n",
       "    </tr>\n",
       "  </tbody>\n",
       "</table>\n",
       "<p>1090 rows × 13 columns</p>\n",
       "</div>"
      ],
      "text/plain": [
       "            Date    Open     High      Low    Close      Volume  Dividend  \\\n",
       "0     2017-12-28  171.00  171.850  170.480  171.080  16480187.0       0.0   \n",
       "1     2017-12-27  170.10  170.780  169.710  170.600  21498213.0       0.0   \n",
       "2     2017-12-26  170.80  171.470  169.679  170.570  33185536.0       0.0   \n",
       "3     2017-12-22  174.68  175.424  174.500  175.010  16349444.0       0.0   \n",
       "4     2017-12-21  174.17  176.020  174.100  175.010  20949896.0       0.0   \n",
       "...          ...     ...      ...      ...      ...         ...       ...   \n",
       "1085  2013-09-09  505.00  507.920  503.480  506.170  12167400.0       0.0   \n",
       "1086  2013-09-06  498.44  499.380  489.950  498.220  12840200.0       0.0   \n",
       "1087  2013-09-05  500.25  500.680  493.640  495.270   8441700.0       0.0   \n",
       "1088  2013-09-04  499.56  502.240  496.280  498.691  12322600.0       0.0   \n",
       "1089  2013-09-03  493.10  500.600  487.350  488.580  11854600.0       0.0   \n",
       "\n",
       "      Split   Adj_Open   Adj_High    Adj_Low  Adj_Close   Adj_Volume  \n",
       "0       1.0  41.136972  41.341454  41.011877  41.156217   65920748.0  \n",
       "1       1.0  40.920461  41.084047  40.826640  41.040745   85992852.0  \n",
       "2       1.0  41.088858  41.250038  40.819183  41.033528  132742144.0  \n",
       "3       1.0  42.022259  42.201241  41.978957  42.101646   65397776.0  \n",
       "4       1.0  41.899570  42.344619  41.882730  42.101646   83799584.0  \n",
       "...     ...        ...        ...        ...        ...          ...  \n",
       "1085    1.0  15.996600  16.089095  15.948451  16.033661  340687200.0  \n",
       "1086    1.0  15.788802  15.818578  15.519869  15.781833  359525600.0  \n",
       "1087    1.0  15.846136  15.859757  15.636755  15.688388  236367600.0  \n",
       "1088    1.0  15.824280  15.909173  15.720381  15.796753  345032800.0  \n",
       "1089    1.0  15.619650  15.857223  15.437510  15.476472  331928800.0  \n",
       "\n",
       "[1090 rows x 13 columns]"
      ]
     },
     "execution_count": 102,
     "metadata": {},
     "output_type": "execute_result"
    }
   ],
   "source": [
    "original_data = pd.read_csv('C:/Users/adity/Downloads/EOD-AAPL.csv')\n",
    "original_data"
   ]
  },
  {
   "cell_type": "markdown",
   "metadata": {},
   "source": [
    "## Creating copy of original data"
   ]
  },
  {
   "cell_type": "code",
   "execution_count": 103,
   "metadata": {},
   "outputs": [],
   "source": [
    "data = original_data.copy()"
   ]
  },
  {
   "cell_type": "markdown",
   "metadata": {},
   "source": [
    "## Exploring the data"
   ]
  },
  {
   "cell_type": "code",
   "execution_count": 104,
   "metadata": {},
   "outputs": [
    {
     "data": {
      "text/plain": [
       "False    1089\n",
       "True        1\n",
       "Name: Split, dtype: int64"
      ]
     },
     "execution_count": 104,
     "metadata": {},
     "output_type": "execute_result"
    }
   ],
   "source": [
    "# Stock Split\n",
    "(data['Split']==7.0).value_counts()"
   ]
  },
  {
   "cell_type": "code",
   "execution_count": 105,
   "metadata": {},
   "outputs": [
    {
     "data": {
      "text/plain": [
       "True     1089\n",
       "False       1\n",
       "Name: Dividend, dtype: int64"
      ]
     },
     "execution_count": 105,
     "metadata": {},
     "output_type": "execute_result"
    }
   ],
   "source": [
    "# Stock Dividend\n",
    "(data['Dividend']<3.29).value_counts()"
   ]
  },
  {
   "cell_type": "code",
   "execution_count": 106,
   "metadata": {},
   "outputs": [
    {
     "data": {
      "text/plain": [
       "Index(['Date', 'Open', 'High', 'Low', 'Close', 'Volume', 'Dividend', 'Split',\n",
       "       'Adj_Open', 'Adj_High', 'Adj_Low', 'Adj_Close', 'Adj_Volume'],\n",
       "      dtype='object')"
      ]
     },
     "execution_count": 106,
     "metadata": {},
     "output_type": "execute_result"
    }
   ],
   "source": [
    "data.columns"
   ]
  },
  {
   "cell_type": "code",
   "execution_count": 107,
   "metadata": {},
   "outputs": [
    {
     "name": "stdout",
     "output_type": "stream",
     "text": [
      "<class 'pandas.core.frame.DataFrame'>\n",
      "RangeIndex: 1090 entries, 0 to 1089\n",
      "Data columns (total 13 columns):\n",
      " #   Column      Non-Null Count  Dtype  \n",
      "---  ------      --------------  -----  \n",
      " 0   Date        1090 non-null   object \n",
      " 1   Open        1090 non-null   float64\n",
      " 2   High        1090 non-null   float64\n",
      " 3   Low         1090 non-null   float64\n",
      " 4   Close       1090 non-null   float64\n",
      " 5   Volume      1090 non-null   float64\n",
      " 6   Dividend    1090 non-null   float64\n",
      " 7   Split       1090 non-null   float64\n",
      " 8   Adj_Open    1090 non-null   float64\n",
      " 9   Adj_High    1090 non-null   float64\n",
      " 10  Adj_Low     1090 non-null   float64\n",
      " 11  Adj_Close   1090 non-null   float64\n",
      " 12  Adj_Volume  1090 non-null   float64\n",
      "dtypes: float64(12), object(1)\n",
      "memory usage: 110.8+ KB\n"
     ]
    }
   ],
   "source": [
    "data.info()"
   ]
  },
  {
   "cell_type": "code",
   "execution_count": 108,
   "metadata": {},
   "outputs": [
    {
     "data": {
      "text/plain": [
       "Date          0\n",
       "Open          0\n",
       "High          0\n",
       "Low           0\n",
       "Close         0\n",
       "Volume        0\n",
       "Dividend      0\n",
       "Split         0\n",
       "Adj_Open      0\n",
       "Adj_High      0\n",
       "Adj_Low       0\n",
       "Adj_Close     0\n",
       "Adj_Volume    0\n",
       "dtype: int64"
      ]
     },
     "execution_count": 108,
     "metadata": {},
     "output_type": "execute_result"
    }
   ],
   "source": [
    "data.isnull().sum()"
   ]
  },
  {
   "cell_type": "code",
   "execution_count": 109,
   "metadata": {},
   "outputs": [
    {
     "data": {
      "text/html": [
       "<div>\n",
       "<style scoped>\n",
       "    .dataframe tbody tr th:only-of-type {\n",
       "        vertical-align: middle;\n",
       "    }\n",
       "\n",
       "    .dataframe tbody tr th {\n",
       "        vertical-align: top;\n",
       "    }\n",
       "\n",
       "    .dataframe thead th {\n",
       "        text-align: right;\n",
       "    }\n",
       "</style>\n",
       "<table border=\"1\" class=\"dataframe\">\n",
       "  <thead>\n",
       "    <tr style=\"text-align: right;\">\n",
       "      <th></th>\n",
       "      <th>Open</th>\n",
       "      <th>High</th>\n",
       "      <th>Low</th>\n",
       "      <th>Close</th>\n",
       "      <th>Volume</th>\n",
       "      <th>Dividend</th>\n",
       "      <th>Split</th>\n",
       "      <th>Adj_Open</th>\n",
       "      <th>Adj_High</th>\n",
       "      <th>Adj_Low</th>\n",
       "      <th>Adj_Close</th>\n",
       "      <th>Adj_Volume</th>\n",
       "    </tr>\n",
       "  </thead>\n",
       "  <tbody>\n",
       "    <tr>\n",
       "      <th>count</th>\n",
       "      <td>1090.000000</td>\n",
       "      <td>1090.000000</td>\n",
       "      <td>1090.000000</td>\n",
       "      <td>1090.000000</td>\n",
       "      <td>1.090000e+03</td>\n",
       "      <td>1090.000000</td>\n",
       "      <td>1090.000000</td>\n",
       "      <td>1090.000000</td>\n",
       "      <td>1090.000000</td>\n",
       "      <td>1090.000000</td>\n",
       "      <td>1090.000000</td>\n",
       "      <td>1.090000e+03</td>\n",
       "    </tr>\n",
       "    <tr>\n",
       "      <th>mean</th>\n",
       "      <td>194.564537</td>\n",
       "      <td>196.114735</td>\n",
       "      <td>193.016676</td>\n",
       "      <td>194.613130</td>\n",
       "      <td>3.605114e+07</td>\n",
       "      <td>0.015642</td>\n",
       "      <td>1.005505</td>\n",
       "      <td>26.367551</td>\n",
       "      <td>26.578236</td>\n",
       "      <td>26.152043</td>\n",
       "      <td>26.373196</td>\n",
       "      <td>1.931334e+08</td>\n",
       "    </tr>\n",
       "    <tr>\n",
       "      <th>std</th>\n",
       "      <td>160.562848</td>\n",
       "      <td>161.812898</td>\n",
       "      <td>159.407381</td>\n",
       "      <td>160.647536</td>\n",
       "      <td>2.194473e+07</td>\n",
       "      <td>0.175122</td>\n",
       "      <td>0.181735</td>\n",
       "      <td>6.614490</td>\n",
       "      <td>6.640870</td>\n",
       "      <td>6.578682</td>\n",
       "      <td>6.616455</td>\n",
       "      <td>1.112891e+08</td>\n",
       "    </tr>\n",
       "    <tr>\n",
       "      <th>min</th>\n",
       "      <td>90.000000</td>\n",
       "      <td>90.700000</td>\n",
       "      <td>89.470000</td>\n",
       "      <td>90.280000</td>\n",
       "      <td>5.704900e+06</td>\n",
       "      <td>0.000000</td>\n",
       "      <td>1.000000</td>\n",
       "      <td>14.189776</td>\n",
       "      <td>14.561974</td>\n",
       "      <td>14.166335</td>\n",
       "      <td>14.258197</td>\n",
       "      <td>4.590369e+07</td>\n",
       "    </tr>\n",
       "    <tr>\n",
       "      <th>25%</th>\n",
       "      <td>108.042500</td>\n",
       "      <td>108.942500</td>\n",
       "      <td>106.972500</td>\n",
       "      <td>108.007500</td>\n",
       "      <td>2.120714e+07</td>\n",
       "      <td>0.000000</td>\n",
       "      <td>1.000000</td>\n",
       "      <td>22.170235</td>\n",
       "      <td>22.433992</td>\n",
       "      <td>21.948836</td>\n",
       "      <td>22.201030</td>\n",
       "      <td>1.133450e+08</td>\n",
       "    </tr>\n",
       "    <tr>\n",
       "      <th>50%</th>\n",
       "      <td>121.585000</td>\n",
       "      <td>122.504950</td>\n",
       "      <td>120.640000</td>\n",
       "      <td>121.755000</td>\n",
       "      <td>3.248325e+07</td>\n",
       "      <td>0.000000</td>\n",
       "      <td>1.000000</td>\n",
       "      <td>25.781510</td>\n",
       "      <td>26.055842</td>\n",
       "      <td>25.511496</td>\n",
       "      <td>25.789823</td>\n",
       "      <td>1.681963e+08</td>\n",
       "    </tr>\n",
       "    <tr>\n",
       "      <th>75%</th>\n",
       "      <td>156.905000</td>\n",
       "      <td>157.809625</td>\n",
       "      <td>155.744975</td>\n",
       "      <td>156.515000</td>\n",
       "      <td>4.673778e+07</td>\n",
       "      <td>0.000000</td>\n",
       "      <td>1.000000</td>\n",
       "      <td>29.329099</td>\n",
       "      <td>29.541994</td>\n",
       "      <td>29.133958</td>\n",
       "      <td>29.362853</td>\n",
       "      <td>2.394642e+08</td>\n",
       "    </tr>\n",
       "    <tr>\n",
       "      <th>max</th>\n",
       "      <td>649.900000</td>\n",
       "      <td>651.260000</td>\n",
       "      <td>644.470000</td>\n",
       "      <td>647.350000</td>\n",
       "      <td>1.895606e+08</td>\n",
       "      <td>3.290000</td>\n",
       "      <td>7.000000</td>\n",
       "      <td>42.125703</td>\n",
       "      <td>42.628488</td>\n",
       "      <td>42.065561</td>\n",
       "      <td>42.440845</td>\n",
       "      <td>1.065523e+09</td>\n",
       "    </tr>\n",
       "  </tbody>\n",
       "</table>\n",
       "</div>"
      ],
      "text/plain": [
       "              Open         High          Low        Close        Volume  \\\n",
       "count  1090.000000  1090.000000  1090.000000  1090.000000  1.090000e+03   \n",
       "mean    194.564537   196.114735   193.016676   194.613130  3.605114e+07   \n",
       "std     160.562848   161.812898   159.407381   160.647536  2.194473e+07   \n",
       "min      90.000000    90.700000    89.470000    90.280000  5.704900e+06   \n",
       "25%     108.042500   108.942500   106.972500   108.007500  2.120714e+07   \n",
       "50%     121.585000   122.504950   120.640000   121.755000  3.248325e+07   \n",
       "75%     156.905000   157.809625   155.744975   156.515000  4.673778e+07   \n",
       "max     649.900000   651.260000   644.470000   647.350000  1.895606e+08   \n",
       "\n",
       "          Dividend        Split     Adj_Open     Adj_High      Adj_Low  \\\n",
       "count  1090.000000  1090.000000  1090.000000  1090.000000  1090.000000   \n",
       "mean      0.015642     1.005505    26.367551    26.578236    26.152043   \n",
       "std       0.175122     0.181735     6.614490     6.640870     6.578682   \n",
       "min       0.000000     1.000000    14.189776    14.561974    14.166335   \n",
       "25%       0.000000     1.000000    22.170235    22.433992    21.948836   \n",
       "50%       0.000000     1.000000    25.781510    26.055842    25.511496   \n",
       "75%       0.000000     1.000000    29.329099    29.541994    29.133958   \n",
       "max       3.290000     7.000000    42.125703    42.628488    42.065561   \n",
       "\n",
       "         Adj_Close    Adj_Volume  \n",
       "count  1090.000000  1.090000e+03  \n",
       "mean     26.373196  1.931334e+08  \n",
       "std       6.616455  1.112891e+08  \n",
       "min      14.258197  4.590369e+07  \n",
       "25%      22.201030  1.133450e+08  \n",
       "50%      25.789823  1.681963e+08  \n",
       "75%      29.362853  2.394642e+08  \n",
       "max      42.440845  1.065523e+09  "
      ]
     },
     "execution_count": 109,
     "metadata": {},
     "output_type": "execute_result"
    }
   ],
   "source": [
    "data.describe()"
   ]
  },
  {
   "cell_type": "markdown",
   "metadata": {},
   "source": [
    "## Feature Engineering"
   ]
  },
  {
   "cell_type": "markdown",
   "metadata": {},
   "source": [
    "#### Generating new features from existing features"
   ]
  },
  {
   "cell_type": "code",
   "execution_count": 110,
   "metadata": {},
   "outputs": [],
   "source": [
    "data['HL_PCT'] = (data['Adj_High'] - data['Adj_Low'])/(data['Adj_Close']*100)\n",
    "data['PCT_change'] = (data['Adj_Close'] - data['Adj_Open'])/(data['Adj_Open']*100)"
   ]
  },
  {
   "cell_type": "code",
   "execution_count": 111,
   "metadata": {},
   "outputs": [
    {
     "data": {
      "text/html": [
       "<div>\n",
       "<style scoped>\n",
       "    .dataframe tbody tr th:only-of-type {\n",
       "        vertical-align: middle;\n",
       "    }\n",
       "\n",
       "    .dataframe tbody tr th {\n",
       "        vertical-align: top;\n",
       "    }\n",
       "\n",
       "    .dataframe thead th {\n",
       "        text-align: right;\n",
       "    }\n",
       "</style>\n",
       "<table border=\"1\" class=\"dataframe\">\n",
       "  <thead>\n",
       "    <tr style=\"text-align: right;\">\n",
       "      <th></th>\n",
       "      <th>Date</th>\n",
       "      <th>Open</th>\n",
       "      <th>High</th>\n",
       "      <th>Low</th>\n",
       "      <th>Close</th>\n",
       "      <th>Volume</th>\n",
       "      <th>Dividend</th>\n",
       "      <th>Split</th>\n",
       "      <th>Adj_Open</th>\n",
       "      <th>Adj_High</th>\n",
       "      <th>Adj_Low</th>\n",
       "      <th>Adj_Close</th>\n",
       "      <th>Adj_Volume</th>\n",
       "      <th>HL_PCT</th>\n",
       "      <th>PCT_change</th>\n",
       "    </tr>\n",
       "  </thead>\n",
       "  <tbody>\n",
       "    <tr>\n",
       "      <th>0</th>\n",
       "      <td>2017-12-28</td>\n",
       "      <td>171.00</td>\n",
       "      <td>171.850</td>\n",
       "      <td>170.480</td>\n",
       "      <td>171.08</td>\n",
       "      <td>16480187.0</td>\n",
       "      <td>0.0</td>\n",
       "      <td>1.0</td>\n",
       "      <td>41.136972</td>\n",
       "      <td>41.341454</td>\n",
       "      <td>41.011877</td>\n",
       "      <td>41.156217</td>\n",
       "      <td>65920748.0</td>\n",
       "      <td>0.000080</td>\n",
       "      <td>0.000005</td>\n",
       "    </tr>\n",
       "    <tr>\n",
       "      <th>1</th>\n",
       "      <td>2017-12-27</td>\n",
       "      <td>170.10</td>\n",
       "      <td>170.780</td>\n",
       "      <td>169.710</td>\n",
       "      <td>170.60</td>\n",
       "      <td>21498213.0</td>\n",
       "      <td>0.0</td>\n",
       "      <td>1.0</td>\n",
       "      <td>40.920461</td>\n",
       "      <td>41.084047</td>\n",
       "      <td>40.826640</td>\n",
       "      <td>41.040745</td>\n",
       "      <td>85992852.0</td>\n",
       "      <td>0.000063</td>\n",
       "      <td>0.000029</td>\n",
       "    </tr>\n",
       "    <tr>\n",
       "      <th>2</th>\n",
       "      <td>2017-12-26</td>\n",
       "      <td>170.80</td>\n",
       "      <td>171.470</td>\n",
       "      <td>169.679</td>\n",
       "      <td>170.57</td>\n",
       "      <td>33185536.0</td>\n",
       "      <td>0.0</td>\n",
       "      <td>1.0</td>\n",
       "      <td>41.088858</td>\n",
       "      <td>41.250038</td>\n",
       "      <td>40.819183</td>\n",
       "      <td>41.033528</td>\n",
       "      <td>132742144.0</td>\n",
       "      <td>0.000105</td>\n",
       "      <td>-0.000013</td>\n",
       "    </tr>\n",
       "    <tr>\n",
       "      <th>3</th>\n",
       "      <td>2017-12-22</td>\n",
       "      <td>174.68</td>\n",
       "      <td>175.424</td>\n",
       "      <td>174.500</td>\n",
       "      <td>175.01</td>\n",
       "      <td>16349444.0</td>\n",
       "      <td>0.0</td>\n",
       "      <td>1.0</td>\n",
       "      <td>42.022259</td>\n",
       "      <td>42.201241</td>\n",
       "      <td>41.978957</td>\n",
       "      <td>42.101646</td>\n",
       "      <td>65397776.0</td>\n",
       "      <td>0.000053</td>\n",
       "      <td>0.000019</td>\n",
       "    </tr>\n",
       "    <tr>\n",
       "      <th>4</th>\n",
       "      <td>2017-12-21</td>\n",
       "      <td>174.17</td>\n",
       "      <td>176.020</td>\n",
       "      <td>174.100</td>\n",
       "      <td>175.01</td>\n",
       "      <td>20949896.0</td>\n",
       "      <td>0.0</td>\n",
       "      <td>1.0</td>\n",
       "      <td>41.899570</td>\n",
       "      <td>42.344619</td>\n",
       "      <td>41.882730</td>\n",
       "      <td>42.101646</td>\n",
       "      <td>83799584.0</td>\n",
       "      <td>0.000110</td>\n",
       "      <td>0.000048</td>\n",
       "    </tr>\n",
       "  </tbody>\n",
       "</table>\n",
       "</div>"
      ],
      "text/plain": [
       "         Date    Open     High      Low   Close      Volume  Dividend  Split  \\\n",
       "0  2017-12-28  171.00  171.850  170.480  171.08  16480187.0       0.0    1.0   \n",
       "1  2017-12-27  170.10  170.780  169.710  170.60  21498213.0       0.0    1.0   \n",
       "2  2017-12-26  170.80  171.470  169.679  170.57  33185536.0       0.0    1.0   \n",
       "3  2017-12-22  174.68  175.424  174.500  175.01  16349444.0       0.0    1.0   \n",
       "4  2017-12-21  174.17  176.020  174.100  175.01  20949896.0       0.0    1.0   \n",
       "\n",
       "    Adj_Open   Adj_High    Adj_Low  Adj_Close   Adj_Volume    HL_PCT  \\\n",
       "0  41.136972  41.341454  41.011877  41.156217   65920748.0  0.000080   \n",
       "1  40.920461  41.084047  40.826640  41.040745   85992852.0  0.000063   \n",
       "2  41.088858  41.250038  40.819183  41.033528  132742144.0  0.000105   \n",
       "3  42.022259  42.201241  41.978957  42.101646   65397776.0  0.000053   \n",
       "4  41.899570  42.344619  41.882730  42.101646   83799584.0  0.000110   \n",
       "\n",
       "   PCT_change  \n",
       "0    0.000005  \n",
       "1    0.000029  \n",
       "2   -0.000013  \n",
       "3    0.000019  \n",
       "4    0.000048  "
      ]
     },
     "execution_count": 111,
     "metadata": {},
     "output_type": "execute_result"
    }
   ],
   "source": [
    "data.head()"
   ]
  },
  {
   "cell_type": "code",
   "execution_count": 112,
   "metadata": {},
   "outputs": [
    {
     "data": {
      "text/plain": [
       "<matplotlib.axes._subplots.AxesSubplot at 0x1ae03c470c8>"
      ]
     },
     "execution_count": 112,
     "metadata": {},
     "output_type": "execute_result"
    },
    {
     "data": {
      "image/png": "[encoded data removed]",
      "text/plain": [
       "<Figure size 792x648 with 2 Axes>"
      ]
     },
     "metadata": {
      "needs_background": "light"
     },
     "output_type": "display_data"
    }
   ],
   "source": [
    "corr = data.corr()\n",
    "\n",
    "f,ax = plt.subplots(figsize=(11,9))\n",
    "\n",
    "cmap = sns.diverging_palette(230, 20, as_cmap=True)\n",
    "\n",
    "sns.heatmap(corr, cmap=cmap, vmax=.3, center=0, \n",
    "            square=True, linewidths=.5, cbar_kws={\"shrink\": .5})"
   ]
  },
  {
   "cell_type": "markdown",
   "metadata": {},
   "source": [
    "## Feature Selection"
   ]
  },
  {
   "cell_type": "code",
   "execution_count": 113,
   "metadata": {},
   "outputs": [],
   "source": [
    "data = data[['Adj_Close', 'Adj_Volume', 'HL_PCT', 'PCT_change']]"
   ]
  },
  {
   "cell_type": "code",
   "execution_count": 114,
   "metadata": {},
   "outputs": [
    {
     "data": {
      "text/plain": [
       "(1090, 4)"
      ]
     },
     "execution_count": 114,
     "metadata": {},
     "output_type": "execute_result"
    }
   ],
   "source": [
    "data.shape"
   ]
  },
  {
   "cell_type": "code",
   "execution_count": 115,
   "metadata": {},
   "outputs": [
    {
     "data": {
      "text/plain": [
       "<matplotlib.axes._subplots.AxesSubplot at 0x1ae03f00588>"
      ]
     },
     "execution_count": 115,
     "metadata": {},
     "output_type": "execute_result"
    },
    {
     "data": {
      "image/png": "[encoded data removed]",
      "text/plain": [
       "<Figure size 432x288 with 1 Axes>"
      ]
     },
     "metadata": {
      "needs_background": "light"
     },
     "output_type": "display_data"
    }
   ],
   "source": [
    "sns.lineplot(x=\"Adj_Close\", y=\"PCT_change\",data=data)"
   ]
  },
  {
   "cell_type": "code",
   "execution_count": 116,
   "metadata": {},
   "outputs": [
    {
     "data": {
      "image/png": "[encoded data removed]",
      "text/plain": [
       "<Figure size 720x432 with 1 Axes>"
      ]
     },
     "metadata": {
      "needs_background": "light"
     },
     "output_type": "display_data"
    }
   ],
   "source": [
    "plt.figure(figsize=(10,6))\n",
    "plt.grid(True)\n",
    "plt.plot(data['Adj_Close'])\n",
    "\n",
    "plt.xlabel('Days')\n",
    "plt.ylabel('Close Prices')\n",
    "plt.title('Closing')\n",
    "plt.show()"
   ]
  },
  {
   "cell_type": "code",
   "execution_count": 117,
   "metadata": {},
   "outputs": [
    {
     "data": {
      "text/html": [
       "<div>\n",
       "<style scoped>\n",
       "    .dataframe tbody tr th:only-of-type {\n",
       "        vertical-align: middle;\n",
       "    }\n",
       "\n",
       "    .dataframe tbody tr th {\n",
       "        vertical-align: top;\n",
       "    }\n",
       "\n",
       "    .dataframe thead th {\n",
       "        text-align: right;\n",
       "    }\n",
       "</style>\n",
       "<table border=\"1\" class=\"dataframe\">\n",
       "  <thead>\n",
       "    <tr style=\"text-align: right;\">\n",
       "      <th></th>\n",
       "      <th>Adj_Close</th>\n",
       "      <th>Adj_Volume</th>\n",
       "      <th>HL_PCT</th>\n",
       "      <th>PCT_change</th>\n",
       "    </tr>\n",
       "  </thead>\n",
       "  <tbody>\n",
       "    <tr>\n",
       "      <th>Adj_Close</th>\n",
       "      <td>1.000000</td>\n",
       "      <td>-0.553474</td>\n",
       "      <td>-0.137288</td>\n",
       "      <td>0.025237</td>\n",
       "    </tr>\n",
       "    <tr>\n",
       "      <th>Adj_Volume</th>\n",
       "      <td>-0.553474</td>\n",
       "      <td>1.000000</td>\n",
       "      <td>0.512480</td>\n",
       "      <td>-0.079556</td>\n",
       "    </tr>\n",
       "    <tr>\n",
       "      <th>HL_PCT</th>\n",
       "      <td>-0.137288</td>\n",
       "      <td>0.512480</td>\n",
       "      <td>1.000000</td>\n",
       "      <td>-0.060349</td>\n",
       "    </tr>\n",
       "    <tr>\n",
       "      <th>PCT_change</th>\n",
       "      <td>0.025237</td>\n",
       "      <td>-0.079556</td>\n",
       "      <td>-0.060349</td>\n",
       "      <td>1.000000</td>\n",
       "    </tr>\n",
       "  </tbody>\n",
       "</table>\n",
       "</div>"
      ],
      "text/plain": [
       "            Adj_Close  Adj_Volume    HL_PCT  PCT_change\n",
       "Adj_Close    1.000000   -0.553474 -0.137288    0.025237\n",
       "Adj_Volume  -0.553474    1.000000  0.512480   -0.079556\n",
       "HL_PCT      -0.137288    0.512480  1.000000   -0.060349\n",
       "PCT_change   0.025237   -0.079556 -0.060349    1.000000"
      ]
     },
     "execution_count": 117,
     "metadata": {},
     "output_type": "execute_result"
    }
   ],
   "source": [
    "data.corr()"
   ]
  },
  {
   "cell_type": "markdown",
   "metadata": {},
   "source": [
    "## Preparing Input Output features for Model Training"
   ]
  },
  {
   "cell_type": "code",
   "execution_count": 118,
   "metadata": {},
   "outputs": [
    {
     "data": {
      "text/html": [
       "<div>\n",
       "<style scoped>\n",
       "    .dataframe tbody tr th:only-of-type {\n",
       "        vertical-align: middle;\n",
       "    }\n",
       "\n",
       "    .dataframe tbody tr th {\n",
       "        vertical-align: top;\n",
       "    }\n",
       "\n",
       "    .dataframe thead th {\n",
       "        text-align: right;\n",
       "    }\n",
       "</style>\n",
       "<table border=\"1\" class=\"dataframe\">\n",
       "  <thead>\n",
       "    <tr style=\"text-align: right;\">\n",
       "      <th></th>\n",
       "      <th>Adj_Close</th>\n",
       "      <th>Adj_Volume</th>\n",
       "      <th>HL_PCT</th>\n",
       "      <th>PCT_change</th>\n",
       "    </tr>\n",
       "  </thead>\n",
       "  <tbody>\n",
       "    <tr>\n",
       "      <th>0</th>\n",
       "      <td>41.156217</td>\n",
       "      <td>65920748.0</td>\n",
       "      <td>0.000080</td>\n",
       "      <td>0.000005</td>\n",
       "    </tr>\n",
       "    <tr>\n",
       "      <th>1</th>\n",
       "      <td>41.040745</td>\n",
       "      <td>85992852.0</td>\n",
       "      <td>0.000063</td>\n",
       "      <td>0.000029</td>\n",
       "    </tr>\n",
       "    <tr>\n",
       "      <th>2</th>\n",
       "      <td>41.033528</td>\n",
       "      <td>132742144.0</td>\n",
       "      <td>0.000105</td>\n",
       "      <td>-0.000013</td>\n",
       "    </tr>\n",
       "    <tr>\n",
       "      <th>3</th>\n",
       "      <td>42.101646</td>\n",
       "      <td>65397776.0</td>\n",
       "      <td>0.000053</td>\n",
       "      <td>0.000019</td>\n",
       "    </tr>\n",
       "    <tr>\n",
       "      <th>4</th>\n",
       "      <td>42.101646</td>\n",
       "      <td>83799584.0</td>\n",
       "      <td>0.000110</td>\n",
       "      <td>0.000048</td>\n",
       "    </tr>\n",
       "    <tr>\n",
       "      <th>...</th>\n",
       "      <td>...</td>\n",
       "      <td>...</td>\n",
       "      <td>...</td>\n",
       "      <td>...</td>\n",
       "    </tr>\n",
       "    <tr>\n",
       "      <th>1085</th>\n",
       "      <td>16.033661</td>\n",
       "      <td>340687200.0</td>\n",
       "      <td>0.000088</td>\n",
       "      <td>0.000023</td>\n",
       "    </tr>\n",
       "    <tr>\n",
       "      <th>1086</th>\n",
       "      <td>15.781833</td>\n",
       "      <td>359525600.0</td>\n",
       "      <td>0.000189</td>\n",
       "      <td>-0.000004</td>\n",
       "    </tr>\n",
       "    <tr>\n",
       "      <th>1087</th>\n",
       "      <td>15.688388</td>\n",
       "      <td>236367600.0</td>\n",
       "      <td>0.000142</td>\n",
       "      <td>-0.000100</td>\n",
       "    </tr>\n",
       "    <tr>\n",
       "      <th>1088</th>\n",
       "      <td>15.796753</td>\n",
       "      <td>345032800.0</td>\n",
       "      <td>0.000120</td>\n",
       "      <td>-0.000017</td>\n",
       "    </tr>\n",
       "    <tr>\n",
       "      <th>1089</th>\n",
       "      <td>15.476472</td>\n",
       "      <td>331928800.0</td>\n",
       "      <td>0.000271</td>\n",
       "      <td>-0.000092</td>\n",
       "    </tr>\n",
       "  </tbody>\n",
       "</table>\n",
       "<p>1090 rows × 4 columns</p>\n",
       "</div>"
      ],
      "text/plain": [
       "      Adj_Close   Adj_Volume    HL_PCT  PCT_change\n",
       "0     41.156217   65920748.0  0.000080    0.000005\n",
       "1     41.040745   85992852.0  0.000063    0.000029\n",
       "2     41.033528  132742144.0  0.000105   -0.000013\n",
       "3     42.101646   65397776.0  0.000053    0.000019\n",
       "4     42.101646   83799584.0  0.000110    0.000048\n",
       "...         ...          ...       ...         ...\n",
       "1085  16.033661  340687200.0  0.000088    0.000023\n",
       "1086  15.781833  359525600.0  0.000189   -0.000004\n",
       "1087  15.688388  236367600.0  0.000142   -0.000100\n",
       "1088  15.796753  345032800.0  0.000120   -0.000017\n",
       "1089  15.476472  331928800.0  0.000271   -0.000092\n",
       "\n",
       "[1090 rows x 4 columns]"
      ]
     },
     "execution_count": 118,
     "metadata": {},
     "output_type": "execute_result"
    }
   ],
   "source": [
    "data = data[['Adj_Close', 'Adj_Volume', 'HL_PCT', 'PCT_change']]\n",
    "data"
   ]
  },
  {
   "cell_type": "code",
   "execution_count": 119,
   "metadata": {},
   "outputs": [
    {
     "data": {
      "text/html": [
       "<div>\n",
       "<style scoped>\n",
       "    .dataframe tbody tr th:only-of-type {\n",
       "        vertical-align: middle;\n",
       "    }\n",
       "\n",
       "    .dataframe tbody tr th {\n",
       "        vertical-align: top;\n",
       "    }\n",
       "\n",
       "    .dataframe thead th {\n",
       "        text-align: right;\n",
       "    }\n",
       "</style>\n",
       "<table border=\"1\" class=\"dataframe\">\n",
       "  <thead>\n",
       "    <tr style=\"text-align: right;\">\n",
       "      <th></th>\n",
       "      <th>Adj_Close</th>\n",
       "      <th>Adj_Volume</th>\n",
       "      <th>HL_PCT</th>\n",
       "      <th>PCT_change</th>\n",
       "      <th>Prediction</th>\n",
       "    </tr>\n",
       "  </thead>\n",
       "  <tbody>\n",
       "    <tr>\n",
       "      <th>0</th>\n",
       "      <td>41.156217</td>\n",
       "      <td>65920748.0</td>\n",
       "      <td>0.000080</td>\n",
       "      <td>0.000005</td>\n",
       "      <td>41.651785</td>\n",
       "    </tr>\n",
       "    <tr>\n",
       "      <th>1</th>\n",
       "      <td>41.040745</td>\n",
       "      <td>85992852.0</td>\n",
       "      <td>0.000063</td>\n",
       "      <td>0.000029</td>\n",
       "      <td>40.891593</td>\n",
       "    </tr>\n",
       "    <tr>\n",
       "      <th>2</th>\n",
       "      <td>41.033528</td>\n",
       "      <td>132742144.0</td>\n",
       "      <td>0.000105</td>\n",
       "      <td>-0.000013</td>\n",
       "      <td>40.932490</td>\n",
       "    </tr>\n",
       "    <tr>\n",
       "      <th>3</th>\n",
       "      <td>42.101646</td>\n",
       "      <td>65397776.0</td>\n",
       "      <td>0.000053</td>\n",
       "      <td>0.000019</td>\n",
       "      <td>41.161029</td>\n",
       "    </tr>\n",
       "    <tr>\n",
       "      <th>4</th>\n",
       "      <td>42.101646</td>\n",
       "      <td>83799584.0</td>\n",
       "      <td>0.000110</td>\n",
       "      <td>0.000048</td>\n",
       "      <td>40.675083</td>\n",
       "    </tr>\n",
       "  </tbody>\n",
       "</table>\n",
       "</div>"
      ],
      "text/plain": [
       "   Adj_Close   Adj_Volume    HL_PCT  PCT_change  Prediction\n",
       "0  41.156217   65920748.0  0.000080    0.000005   41.651785\n",
       "1  41.040745   85992852.0  0.000063    0.000029   40.891593\n",
       "2  41.033528  132742144.0  0.000105   -0.000013   40.932490\n",
       "3  42.101646   65397776.0  0.000053    0.000019   41.161029\n",
       "4  42.101646   83799584.0  0.000110    0.000048   40.675083"
      ]
     },
     "execution_count": 119,
     "metadata": {},
     "output_type": "execute_result"
    }
   ],
   "source": [
    "# Create a variable to predict 'x' days out into the future\n",
    "future_days = 25\n",
    "\n",
    "# Create anew column (target) shifted 'x' units/days up\n",
    "data['Prediction'] = data[['Adj_Close']].shift(-future_days)\n",
    "data.head()"
   ]
  },
  {
   "cell_type": "code",
   "execution_count": 120,
   "metadata": {},
   "outputs": [
    {
     "data": {
      "text/html": [
       "<div>\n",
       "<style scoped>\n",
       "    .dataframe tbody tr th:only-of-type {\n",
       "        vertical-align: middle;\n",
       "    }\n",
       "\n",
       "    .dataframe tbody tr th {\n",
       "        vertical-align: top;\n",
       "    }\n",
       "\n",
       "    .dataframe thead th {\n",
       "        text-align: right;\n",
       "    }\n",
       "</style>\n",
       "<table border=\"1\" class=\"dataframe\">\n",
       "  <thead>\n",
       "    <tr style=\"text-align: right;\">\n",
       "      <th></th>\n",
       "      <th>Adj_Close</th>\n",
       "      <th>Adj_Volume</th>\n",
       "      <th>HL_PCT</th>\n",
       "      <th>PCT_change</th>\n",
       "      <th>Prediction</th>\n",
       "    </tr>\n",
       "  </thead>\n",
       "  <tbody>\n",
       "    <tr>\n",
       "      <th>1085</th>\n",
       "      <td>16.033661</td>\n",
       "      <td>340687200.0</td>\n",
       "      <td>0.000088</td>\n",
       "      <td>0.000023</td>\n",
       "      <td>NaN</td>\n",
       "    </tr>\n",
       "    <tr>\n",
       "      <th>1086</th>\n",
       "      <td>15.781833</td>\n",
       "      <td>359525600.0</td>\n",
       "      <td>0.000189</td>\n",
       "      <td>-0.000004</td>\n",
       "      <td>NaN</td>\n",
       "    </tr>\n",
       "    <tr>\n",
       "      <th>1087</th>\n",
       "      <td>15.688388</td>\n",
       "      <td>236367600.0</td>\n",
       "      <td>0.000142</td>\n",
       "      <td>-0.000100</td>\n",
       "      <td>NaN</td>\n",
       "    </tr>\n",
       "    <tr>\n",
       "      <th>1088</th>\n",
       "      <td>15.796753</td>\n",
       "      <td>345032800.0</td>\n",
       "      <td>0.000120</td>\n",
       "      <td>-0.000017</td>\n",
       "      <td>NaN</td>\n",
       "    </tr>\n",
       "    <tr>\n",
       "      <th>1089</th>\n",
       "      <td>15.476472</td>\n",
       "      <td>331928800.0</td>\n",
       "      <td>0.000271</td>\n",
       "      <td>-0.000092</td>\n",
       "      <td>NaN</td>\n",
       "    </tr>\n",
       "  </tbody>\n",
       "</table>\n",
       "</div>"
      ],
      "text/plain": [
       "      Adj_Close   Adj_Volume    HL_PCT  PCT_change  Prediction\n",
       "1085  16.033661  340687200.0  0.000088    0.000023         NaN\n",
       "1086  15.781833  359525600.0  0.000189   -0.000004         NaN\n",
       "1087  15.688388  236367600.0  0.000142   -0.000100         NaN\n",
       "1088  15.796753  345032800.0  0.000120   -0.000017         NaN\n",
       "1089  15.476472  331928800.0  0.000271   -0.000092         NaN"
      ]
     },
     "execution_count": 120,
     "metadata": {},
     "output_type": "execute_result"
    }
   ],
   "source": [
    "data.tail()"
   ]
  },
  {
   "cell_type": "code",
   "execution_count": 121,
   "metadata": {},
   "outputs": [
    {
     "name": "stdout",
     "output_type": "stream",
     "text": [
      "[[ 4.11562172e+01  6.59207480e+07  8.00794950e-05  4.67836257e-06]\n",
      " [ 4.10407450e+01  8.59928520e+07  6.27198124e-05  2.93944738e-05]\n",
      " [ 4.10335280e+01  1.32742144e+08  1.05000879e-04 -1.34660422e-05]\n",
      " ...\n",
      " [ 1.55099861e+01  2.78602800e+08  1.09060163e-04 -3.42343076e-05]\n",
      " [ 1.54133730e+01  3.01725200e+08  1.95442551e-04  4.01947838e-05]\n",
      " [ 1.52344645e+01  2.90917200e+08  2.10005406e-04 -1.83695963e-04]]\n"
     ]
    }
   ],
   "source": [
    "# Create the feature data set (X) and convert it to a numpy array and remove the last 'x' rows/days\n",
    "X = np.array(data.drop(['Prediction'],1))[: -future_days]\n",
    "print(X)"
   ]
  },
  {
   "cell_type": "code",
   "execution_count": 122,
   "metadata": {},
   "outputs": [
    {
     "data": {
      "text/plain": [
       "(1065, 4)"
      ]
     },
     "execution_count": 122,
     "metadata": {},
     "output_type": "execute_result"
    }
   ],
   "source": [
    "X.shape"
   ]
  },
  {
   "cell_type": "code",
   "execution_count": 123,
   "metadata": {},
   "outputs": [
    {
     "name": "stdout",
     "output_type": "stream",
     "text": [
      "[41.65178543 40.89159344 40.93248984 ... 15.68838781 15.79675289\n",
      " 15.47647246]\n"
     ]
    }
   ],
   "source": [
    "# Create the target data set (y) and convert it to numpy array and get all of the target values except the last 'x' rows/days\n",
    "y = np.array(data['Prediction'])[:-future_days]\n",
    "print(y)"
   ]
  },
  {
   "cell_type": "code",
   "execution_count": 124,
   "metadata": {},
   "outputs": [
    {
     "data": {
      "text/plain": [
       "(1065,)"
      ]
     },
     "execution_count": 124,
     "metadata": {},
     "output_type": "execute_result"
    }
   ],
   "source": [
    "y.shape"
   ]
  },
  {
   "cell_type": "code",
   "execution_count": 125,
   "metadata": {},
   "outputs": [
    {
     "data": {
      "text/plain": [
       "array([[ 1.65378560e+01,  2.27452400e+08,  1.39871457e-04,\n",
       "        -1.81157330e-05],\n",
       "       [ 1.65860312e+01,  2.79316800e+08,  1.64054096e-04,\n",
       "         1.16211279e-04],\n",
       "       [ 1.63289694e+01,  2.62620400e+08,  2.10930122e-04,\n",
       "        -1.36417876e-04],\n",
       "       [ 1.65975015e+01,  2.23375600e+08,  1.27850726e-04,\n",
       "        -6.16235810e-05],\n",
       "       [ 1.66443509e+01,  2.65213200e+08,  1.11999452e-04,\n",
       "         1.65656335e-05],\n",
       "       [ 1.66855620e+01,  2.44627600e+08,  1.52064547e-04,\n",
       "         1.08424487e-04],\n",
       "       [ 1.64726963e+01,  2.74890000e+08,  1.72297752e-04,\n",
       "        -7.61421320e-05],\n",
       "       [ 1.65573358e+01,  2.75696400e+08,  1.18997058e-04,\n",
       "        -4.37714286e-05],\n",
       "       [ 1.66268339e+01,  3.54163600e+08,  2.00039627e-04,\n",
       "         1.01730144e-04],\n",
       "       [ 1.63665169e+01,  6.35807200e+08,  4.78247574e-04,\n",
       "        -3.65338356e-04],\n",
       "       [ 1.67845825e+01,  5.50440800e+08,  1.47015528e-04,\n",
       "         1.58022078e-05],\n",
       "       [ 1.66604742e+01,  3.37792000e+08,  1.54384951e-04,\n",
       "        -1.00825311e-04],\n",
       "       [ 1.68490124e+01,  3.84764800e+08,  1.88377733e-04,\n",
       "         1.31619048e-04],\n",
       "       [ 1.66288612e+01,  3.13723200e+08,  1.27057300e-04,\n",
       "         1.14836224e-04],\n",
       "       [ 1.64675489e+01,  5.34063600e+08,  3.92784700e-04,\n",
       "        -1.24191450e-04],\n",
       "       [ 1.65148893e+01,  3.98106800e+08,  2.45127186e-04,\n",
       "         1.87427946e-04],\n",
       "       [ 1.61198209e+01,  2.90542000e+08,  6.97596730e-05,\n",
       "         5.73133856e-05],\n",
       "       [ 1.59807613e+01,  2.53593200e+08,  1.01090188e-04,\n",
       "         9.04036161e-05],\n",
       "       [ 1.58735049e+01,  2.51101200e+08,  6.58532789e-05,\n",
       "         6.46977775e-06],\n",
       "       [ 1.57964045e+01,  3.20073600e+08,  1.29943050e-04,\n",
       "         2.36178531e-05],\n",
       "       [ 1.57127787e+01,  2.61898000e+08,  1.65914039e-04,\n",
       "         1.26778678e-04],\n",
       "       [ 1.56105271e+01,  2.67738800e+08,  1.76132075e-04,\n",
       "         1.19550709e-04],\n",
       "       [ 1.55099861e+01,  2.78602800e+08,  1.09060163e-04,\n",
       "        -3.42343076e-05],\n",
       "       [ 1.54133730e+01,  3.01725200e+08,  1.95442551e-04,\n",
       "         4.01947838e-05],\n",
       "       [ 1.52344645e+01,  2.90917200e+08,  2.10005406e-04,\n",
       "        -1.83695963e-04]])"
      ]
     },
     "execution_count": 125,
     "metadata": {},
     "output_type": "execute_result"
    }
   ],
   "source": [
    "# Get the last 'x' rows of the feature data set\n",
    "x_future = data.drop(['Prediction'],1)[:-future_days]\n",
    "x_future = x_future.tail(future_days)\n",
    "x_future = np.array(x_future)\n",
    "x_future"
   ]
  },
  {
   "cell_type": "code",
   "execution_count": 126,
   "metadata": {},
   "outputs": [
    {
     "data": {
      "text/plain": [
       "(25, 4)"
      ]
     },
     "execution_count": 126,
     "metadata": {},
     "output_type": "execute_result"
    }
   ],
   "source": [
    "x_future.shape"
   ]
  },
  {
   "cell_type": "code",
   "execution_count": 127,
   "metadata": {},
   "outputs": [],
   "source": [
    "# Split the data into 75% training and 25% testing\n",
    "x_train, x_test, y_train, y_test = train_test_split(X,y, test_size = 0.25)"
   ]
  },
  {
   "cell_type": "markdown",
   "metadata": {},
   "source": [
    "### Building Model"
   ]
  },
  {
   "cell_type": "code",
   "execution_count": 128,
   "metadata": {},
   "outputs": [],
   "source": [
    "# Create the model\n",
    "lr = LinearRegression().fit(x_train, y_train)"
   ]
  },
  {
   "cell_type": "code",
   "execution_count": 130,
   "metadata": {},
   "outputs": [],
   "source": [
    "# Predict the result that will contain forecasted data\n",
    "forecast = []\n",
    "forecast = lr.predict(x_future)\n",
    "y_pred = lr.predict(x_test)"
   ]
  },
  {
   "cell_type": "code",
   "execution_count": 133,
   "metadata": {},
   "outputs": [
    {
     "name": "stdout",
     "output_type": "stream",
     "text": [
      "2.8813485453413636 1.697453547329459\n"
     ]
    }
   ],
   "source": [
    "# Mean squared error and Root mean squared error\n",
    "mse = mean_squared_error(y_test, y_pred)\n",
    "rmse = np.sqrt(mse)\n",
    "print(mse, rmse)"
   ]
  },
  {
   "cell_type": "code",
   "execution_count": 134,
   "metadata": {},
   "outputs": [
    {
     "name": "stdout",
     "output_type": "stream",
     "text": [
      "0.9333800901219079 0.9242644539589739\n"
     ]
    }
   ],
   "source": [
    "# R squared value\n",
    "r2_test = lr.score(x_test,y_test)\n",
    "r2_train = lr.score(x_train,y_train)\n",
    "print(r2_test, r2_train)"
   ]
  },
  {
   "cell_type": "code",
   "execution_count": 143,
   "metadata": {},
   "outputs": [
    {
     "data": {
      "text/plain": [
       "<matplotlib.axes._subplots.AxesSubplot at 0x1ae03dd3e48>"
      ]
     },
     "execution_count": 143,
     "metadata": {},
     "output_type": "execute_result"
    },
    {
     "data": {
      "image/png": "[encoded data removed]",
      "text/plain": [
       "<Figure size 432x288 with 1 Axes>"
      ]
     },
     "metadata": {
      "needs_background": "light"
     },
     "output_type": "display_data"
    }
   ],
   "source": [
    "# Regression diagnostics - Residual plot analysis\n",
    "residuals = y_test - y_pred\n",
    "sns.regplot(x=y_pred, y=residuals, scatter=True, fit_reg=False)"
   ]
  },
  {
   "cell_type": "code",
   "execution_count": null,
   "metadata": {},
   "outputs": [],
   "source": []
  }
 ],
 "metadata": {
  "kernelspec": {
   "display_name": "Python 3",
   "language": "python",
   "name": "python3"
  },
  "language_info": {
   "codemirror_mode": {
    "name": "ipython",
    "version": 3
   },
   "file_extension": ".py",
   "mimetype": "text/x-python",
   "name": "python",
   "nbconvert_exporter": "python",
   "pygments_lexer": "ipython3",
   "version": "3.7.6"
  }
 },
 "nbformat": 4,
 "nbformat_minor": 4
}
